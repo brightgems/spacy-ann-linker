{
 "cells": [
  {
   "cell_type": "code",
   "execution_count": 23,
   "metadata": {},
   "outputs": [],
   "source": [
    "import spacy\n",
    "from spacy_ann import AnnLinker\n",
    "\n",
    "# Load the spaCy model from the output_dir you used from the create_index command\n",
    "model_dir = \"models/ann_linker/\"\n",
    "nlp = spacy.load(model_dir)\n",
    "\n",
    "# The NER component of the en_core_web_md model doesn't actually recognize the aliases as entities\n",
    "# so we'll add a spaCy EntityRuler component for now to extract them.\n",
    "ruler=nlp.add_pipe('entity_ruler', before=\"ann_linker\")\n",
    "patterns = [{\"label\": \"SKILL\", \"pattern\": alias} for alias in nlp.get_pipe('ann_linker').kb.get_alias_strings()]+\\\n",
    "    [{'label': 'SKILL', 'pattern': 'AI2'}]\n",
    "ruler.add_patterns(patterns)"
   ]
  },
  {
   "cell_type": "code",
   "execution_count": 24,
   "metadata": {},
   "outputs": [
    {
     "output_type": "execute_result",
     "data": {
      "text/plain": [
       "[('NLP', 'ORG', 'a3'), ('AI2', 'SKILL', '')]"
      ]
     },
     "metadata": {},
     "execution_count": 24
    }
   ],
   "source": [
    "doc = nlp(\"NLP is a highly researched subset of AI2 learn.\")\n",
    "[(e.text, e.label_, e.kb_id_) for e in doc.ents]"
   ]
  },
  {
   "cell_type": "code",
   "execution_count": 26,
   "metadata": {},
   "outputs": [],
   "source": [
    "import srsly\n",
    "import numpy as np\n",
    "entities = list(srsly.read_jsonl('data/entities.jsonl'))\n",
    "natl_doc = nlp.make_doc(entities[2]['description'])\n",
    "neur_doc = nlp.make_doc(entities[3]['description']) "
   ]
  },
  {
   "cell_type": "code",
   "execution_count": 27,
   "metadata": {},
   "outputs": [
    {
     "output_type": "execute_result",
     "data": {
      "text/plain": [
       "array([3.2457936, 2.6232092], dtype=float32)"
      ]
     },
     "metadata": {},
     "execution_count": 27
    }
   ],
   "source": [
    "entity_encodings = np.asarray([natl_doc.vector, neur_doc.vector])\n",
    "entity_norm = np.linalg.norm(entity_encodings, axis=1)\n",
    "entity_norm"
   ]
  },
  {
   "cell_type": "code",
   "execution_count": 28,
   "metadata": {},
   "outputs": [
    {
     "output_type": "execute_result",
     "data": {
      "text/plain": [
       "0"
      ]
     },
     "metadata": {},
     "execution_count": 28
    }
   ],
   "source": [
    "sims = np.dot(entity_encodings, doc.vector.T) / (doc.vector_norm * entity_norm)\n",
    "sims.argmax()"
   ]
  },
  {
   "cell_type": "code",
   "execution_count": 29,
   "metadata": {},
   "outputs": [],
   "source": [
    "patterns = [\n",
    "    {\"label\": \"SKILL\", \"pattern\": alias}\n",
    "    for alias in nlp.get_pipe('ann_linker').kb.get_alias_strings()\n",
    "]"
   ]
  },
  {
   "cell_type": "code",
   "execution_count": 30,
   "metadata": {},
   "outputs": [
    {
     "output_type": "stream",
     "name": "stdout",
     "text": [
      "[('NLP', 'ORG', 'a3'), ('AI2', 'SKILL', '')]\n"
     ]
    }
   ],
   "source": [
    "print([(e.text, e.label_, e.kb_id_) for e in doc.ents])"
   ]
  },
  {
   "cell_type": "code",
   "execution_count": 31,
   "metadata": {},
   "outputs": [
    {
     "output_type": "execute_result",
     "data": {
      "text/plain": [
       "More text about nlpe"
      ]
     },
     "metadata": {},
     "execution_count": 31
    }
   ],
   "source": [
    "nlp(\"More text about nlpe\")"
   ]
  },
  {
   "cell_type": "code",
   "execution_count": 32,
   "metadata": {},
   "outputs": [],
   "source": [
    "ent = list(doc.ents)[0]"
   ]
  },
  {
   "cell_type": "code",
   "execution_count": null,
   "metadata": {},
   "outputs": [],
   "source": []
  }
 ],
 "metadata": {
  "kernelspec": {
   "name": "python36764bitbasecondab6b819a2a99045ee9b4005dd3cb88ac5",
   "display_name": "Python 3.6.7 64-bit ('base': conda)"
  },
  "language_info": {
   "codemirror_mode": {
    "name": "ipython",
    "version": 3
   },
   "file_extension": ".py",
   "mimetype": "text/x-python",
   "name": "python",
   "nbconvert_exporter": "python",
   "pygments_lexer": "ipython3",
   "version": "3.6.7"
  },
  "metadata": {
   "interpreter": {
    "hash": "9e1ba3737ae4a7d8c48fc54164453b2f8368144d451da4fbe9f1b03ba45d301f"
   }
  }
 },
 "nbformat": 4,
 "nbformat_minor": 4
}